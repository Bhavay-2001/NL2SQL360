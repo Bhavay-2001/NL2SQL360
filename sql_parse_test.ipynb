{
 "cells": [
  {
   "cell_type": "code",
   "execution_count": 1,
   "metadata": {},
   "outputs": [],
   "source": [
    "from sql_parse.parser import Parser"
   ]
  },
  {
   "cell_type": "code",
   "execution_count": null,
   "metadata": {},
   "outputs": [],
   "source": [
    "examples = [\n",
    "    \"SELECT 1+1 FROM (SELECT * FROM SINGER) AS T1 UNION ALL SELECT count(*) FROM SINGER\",\n",
    "    \"SELECT SUM(IIF(CustomerID = 7, Consumption, 0)) - SUM(IIF(CustomerID = 5, Consumption, 0)) FROM yearmonth WHERE Date = '201304'\",\n",
    "    \"SELECT CAST(SUM(CASE WHEN DOC = 54 THEN 1 ELSE 0 END) AS REAL) / SUM(CASE WHEN DOC = 52 THEN 1 ELSE 0 END) FROM schools WHERE StatusType = 'Merged' AND County = 'Orange'\",\n",
    "    \"SELECT CAST(COUNT(School) AS REAL) / 12 FROM schools WHERE DOC = 52 AND County = 'Alameda' AND strftime('%Y', OpenDate) = '1980'\",\n",
    "    \"SELECT T2.School, T1.AvgScrWrite FROM satscores AS T1 INNER JOIN schools AS T2 ON T1.cds = T2.CDSCode WHERE T2.AdmFName1 = 'Ricci' AND T2.AdmLName1 = 'Ulrich'\",\n",
    "    \"SELECT `Free Meal Count (K-12)` / `Enrollment (K-12)` FROM frpm WHERE `County Name` = 'Alameda' ORDER BY (CAST(`Free Meal Count (K-12)` AS REAL) / `Enrollment (K-12)`) DESC LIMIT 1\",\n",
    "]"
   ]
  },
  {
   "cell_type": "code",
   "execution_count": 3,
   "metadata": {},
   "outputs": [],
   "source": [
    "sql = \"SELECT max_temperature_f, date FROM weather WHERE max_temperature_f = ( SELECT MAX(max_temperature_f) FROM weather WHERE max_temperature_f IS NOT NULL AND max_temperature_f IS NOT NULL )\"\n",
    "\n",
    "parser = Parser(sql)\n",
    "\n",
    "\n",
    "# print(\n",
    "#     {attr: getattr(parser, attr) for attr in dir(parser) if attr.startswith(\"count_\")}\n",
    "# )\n"
   ]
  },
  {
   "cell_type": "code",
   "execution_count": null,
   "metadata": {},
   "outputs": [],
   "source": [
    "import json\n",
    "\n",
    "spider_dev = json.load(open(\"data/dataset/spider/dev.json\"))\n",
    "for item in spider_dev:\n",
    "    sql = item[\"query\"]\n",
    "    parser = Parser(sql)\n",
    "    print(parser.count_query_fields)\n",
    "    print(parser.count_group_by)\n",
    "    print(parser.count_order_by)\n",
    "    print(parser.count_limit)\n",
    "    print(parser.count_join)\n",
    "    print(parser.count_scalar_function)\n",
    "    print(parser.count_logical_connecter)\n",
    "    print(parser.count_like)\n",
    "    print(parser.count_distinct)\n",
    "    print(parser.count_control_flow)\n",
    "    print(parser.count_aggregation)\n",
    "    print(parser.count_math_compute)\n",
    "    print(parser.count_subquery)\n",
    "    print(parser.count_set_operation)\n",
    "    print(parser.count_predicate)\n"
   ]
  },
  {
   "cell_type": "code",
   "execution_count": null,
   "metadata": {},
   "outputs": [],
   "source": [
    "import json\n",
    "\n",
    "spider_dev = json.load(open(\"data/dataset/bird/dev/dev.json\"))\n",
    "for item in spider_dev:\n",
    "    sql = item[\"SQL\"]\n",
    "    parser = Parser(sql)\n",
    "    print(parser.count_query_fields)\n",
    "    print(parser.count_group_by)\n",
    "    print(parser.count_order_by)\n",
    "    print(parser.count_limit)\n",
    "    print(parser.count_join)\n",
    "    print(parser.count_scalar_function)\n",
    "    print(parser.count_logical_connecter)\n",
    "    print(parser.count_like)\n",
    "    print(parser.count_distinct)\n",
    "    print(parser.count_control_flow)\n",
    "    print(parser.count_aggregation)\n",
    "    print(parser.count_math_compute)\n",
    "    print(parser.count_subquery)\n",
    "    print(parser.count_set_operation)\n",
    "    print(parser.count_predicate)\n"
   ]
  },
  {
   "cell_type": "code",
   "execution_count": null,
   "metadata": {},
   "outputs": [],
   "source": [
    "from engine.engine import Engine\n",
    "from engine.model import get_dataset_model, get_evaluation_model\n",
    "from sqlalchemy import Table\n",
    "\n",
    "db_url = \"sqlite:///data/storage/hypersql.sqlite\"\n",
    "engine = Engine(db_url)\n"
   ]
  },
  {
   "cell_type": "code",
   "execution_count": null,
   "metadata": {},
   "outputs": [],
   "source": [
    "engine.create_dataset_table(\"spider_dev\")"
   ]
  },
  {
   "cell_type": "code",
   "execution_count": null,
   "metadata": {},
   "outputs": [],
   "source": [
    "import json\n",
    "\n",
    "data = json.load(open(\"data/dataset/spider/dev.json\"))\n",
    "\n",
    "raw_data = []\n",
    "\n",
    "for id, item in enumerate(data):\n",
    "    raw_data.append({\n",
    "        \"id\": id,\n",
    "        \"nlq\": item[\"question\"],\n",
    "        \"gold\": item[\"query\"],\n",
    "        \"db_id\": item[\"db_id\"]\n",
    "    })\n",
    "\n",
    "engine.insert_dataset_table(\"spider_dev\", raw_data)"
   ]
  },
  {
   "cell_type": "code",
   "execution_count": null,
   "metadata": {},
   "outputs": [],
   "source": [
    "import json\n",
    "\n",
    "data = json.load(open(\"data/dataset/bird/dev/dev.json\"))\n",
    "\n",
    "raw_data = []\n",
    "\n",
    "for id, item in enumerate(data):\n",
    "    raw_data.append({\n",
    "        \"id\": id,\n",
    "        \"nlq\": item[\"question\"],\n",
    "        \"gold\": item[\"SQL\"],\n",
    "        \"db_id\": item[\"db_id\"]\n",
    "    })\n",
    "\n",
    "engine.insert_dataset_table(\"bird_dev\", raw_data)"
   ]
  },
  {
   "cell_type": "code",
   "execution_count": null,
   "metadata": {},
   "outputs": [],
   "source": [
    "from dataset.dataset_builder import SpiderDataset, BirdDataset\n",
    "\n",
    "spider_dataset = SpiderDataset(\"data/dataset\")\n",
    "bird_dataset = BirdDataset(\"data/dataset\")"
   ]
  },
  {
   "cell_type": "code",
   "execution_count": null,
   "metadata": {},
   "outputs": [],
   "source": [
    "raw_data = spider_dataset.get_raw_data(\"dev\")\n",
    "\n",
    "raw_data[100]"
   ]
  },
  {
   "cell_type": "code",
   "execution_count": null,
   "metadata": {},
   "outputs": [],
   "source": [
    "raw_data = bird_dataset.get_raw_data(\"dev\")\n",
    "\n",
    "raw_data[500]"
   ]
  },
  {
   "cell_type": "code",
   "execution_count": null,
   "metadata": {},
   "outputs": [],
   "source": [
    "from engine.engine import Engine\n",
    "from engine.model import get_dataset_model, get_evaluation_model\n",
    "from sqlalchemy import Table\n",
    "\n",
    "db_url = \"sqlite:///data/storage/hypersql.sqlite\"\n",
    "engine = Engine(db_url)\n"
   ]
  },
  {
   "cell_type": "code",
   "execution_count": null,
   "metadata": {},
   "outputs": [],
   "source": [
    "dataset_name = f\"{spider_dataset.name}_dev\"\n",
    "raw_data = spider_dataset.get_raw_data(\"dev\")\n",
    "\n",
    "engine.create_dataset_table(dataset_name)"
   ]
  },
  {
   "cell_type": "code",
   "execution_count": null,
   "metadata": {},
   "outputs": [],
   "source": [
    "engine.insert_dataset_table(dataset_name, raw_data)"
   ]
  },
  {
   "cell_type": "code",
   "execution_count": null,
   "metadata": {},
   "outputs": [],
   "source": [
    "dataset_name = f\"{bird_dataset.name}_dev\"\n",
    "raw_data = bird_dataset.get_raw_data(\"dev\")\n",
    "engine.create_dataset_table(dataset_name)"
   ]
  },
  {
   "cell_type": "code",
   "execution_count": null,
   "metadata": {},
   "outputs": [],
   "source": [
    "engine.insert_dataset_table(dataset_name, raw_data)"
   ]
  },
  {
   "cell_type": "code",
   "execution_count": null,
   "metadata": {},
   "outputs": [],
   "source": [
    "spider_dataset.__class__"
   ]
  },
  {
   "cell_type": "code",
   "execution_count": null,
   "metadata": {},
   "outputs": [],
   "source": [
    "from engine.engine import Engine\n",
    "from dataset.dataset_builder import SpiderDataset, BirdDataset\n",
    "\n",
    "db_url = \"sqlite:///data/storage/hypersql.sqlite\"\n",
    "engine = Engine(db_url)\n"
   ]
  },
  {
   "cell_type": "code",
   "execution_count": null,
   "metadata": {},
   "outputs": [],
   "source": [
    "with open(\"data/predict/spider/HyperSQL.txt\", \"r\") as f:\n",
    "    preds = f.readlines()\n",
    "\n",
    "spider_dataset = SpiderDataset(\"data/dataset\")\n",
    "\n",
    "engine.insert_evaluation_table(spider_dataset, \"dev\", \"HyperSQL\", preds)"
   ]
  },
  {
   "cell_type": "code",
   "execution_count": null,
   "metadata": {},
   "outputs": [],
   "source": [
    "engine.models_dict"
   ]
  },
  {
   "cell_type": "code",
   "execution_count": null,
   "metadata": {},
   "outputs": [],
   "source": []
  }
 ],
 "metadata": {
  "kernelspec": {
   "display_name": "nl2sql",
   "language": "python",
   "name": "python3"
  },
  "language_info": {
   "codemirror_mode": {
    "name": "ipython",
    "version": 3
   },
   "file_extension": ".py",
   "mimetype": "text/x-python",
   "name": "python",
   "nbconvert_exporter": "python",
   "pygments_lexer": "ipython3",
   "version": "3.10.13"
  }
 },
 "nbformat": 4,
 "nbformat_minor": 2
}
